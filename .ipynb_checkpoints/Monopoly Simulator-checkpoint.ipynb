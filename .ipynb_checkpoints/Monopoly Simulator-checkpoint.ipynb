{
 "cells": [
  {
   "cell_type": "code",
   "execution_count": 13,
   "id": "e7bd4207",
   "metadata": {},
   "outputs": [],
   "source": [
    "import numpy as np\n",
    "import pandas as pd\n",
    "from collections import defaultdict"
   ]
  },
  {
   "cell_type": "code",
   "execution_count": 4,
   "id": "25c4d34f",
   "metadata": {},
   "outputs": [],
   "source": [
    "# ToDo:\n",
    "# Implement basic board functionality\n",
    "# Implement classes for community chest, chance, "
   ]
  },
  {
   "cell_type": "code",
   "execution_count": 5,
   "id": "277ebfb7",
   "metadata": {},
   "outputs": [],
   "source": [
    "class Player:\n",
    "    def __init__(self, risk):\n",
    "        self.risk = risk\n",
    "        self.balance = 1500\n",
    "        self.properties = []\n",
    "        self.position = 0\n",
    "    def consider(self, prop):\n",
    "        if prop.price < self.balance * self.risk:\n",
    "            self.balance -= prop.price\n",
    "            prop.owner = self\n",
    "            prop.profit = -(prop.price)\n",
    "            prop.rent = prop.rents[0]"
   ]
  },
  {
   "cell_type": "code",
   "execution_count": 6,
   "id": "c0908cdb",
   "metadata": {},
   "outputs": [],
   "source": [
    "class Square:\n",
    "    def __init__(self, position, name):\n",
    "        self.position = position\n",
    "        self.name = name\n",
    "        self.visits = 0"
   ]
  },
  {
   "cell_type": "code",
   "execution_count": 7,
   "id": "9743f82a",
   "metadata": {},
   "outputs": [],
   "source": [
    "class Property(Square):\n",
    "    def __init__(self, position, name, price):\n",
    "        super().__init__(position, name)\n",
    "        self.price = price\n",
    "        self.rent = 0\n",
    "        self.profit = 0\n",
    "        self.owner = None\n",
    "    def land_action(self, player):\n",
    "        if not self.owner:\n",
    "            player.consider(self)\n",
    "        else:\n",
    "            self.charge(player)\n",
    "        self.visits += 1\n",
    "    def charge(self, player):\n",
    "        player.balance -= self.rent\n",
    "        self.profit += self.rent\n",
    "        self.owner.balance += self.rent"
   ]
  },
  {
   "cell_type": "code",
   "execution_count": 8,
   "id": "fe6cf4ca",
   "metadata": {},
   "outputs": [],
   "source": [
    "class Building(Property):\n",
    "    def __init__(self, position, name, price, rents, color):\n",
    "        super().__init__(position, name, price)\n",
    "        self.rents = rents\n",
    "        self.color = color\n",
    "        \n",
    "class Railroad(Property):\n",
    "    def __init__(self, position, name):\n",
    "        super().__init__(position, name, 200)\n",
    "        self.rents = (25, 50, 100, 200)\n",
    "\n",
    "class Utility(Property):\n",
    "    def __init__(self, position, name):\n",
    "        super().__init__(position, name, 150)\n",
    "        self.rents = (4, 12)"
   ]
  },
  {
   "cell_type": "code",
   "execution_count": 14,
   "id": "9b67a7a2",
   "metadata": {},
   "outputs": [],
   "source": [
    "class Tax(Square):\n",
    "    def __init__(self, position, name, cost):\n",
    "        super().__init__(position, name)\n",
    "        self.cost = cost\n",
    "    def land_action(self, player):\n",
    "        player.balance -= self.cost\n",
    "        self.visits += 1\n",
    "\n",
    "class Go(Square):\n",
    "    def __init__(self):\n",
    "        super().__init__(0, \"Go\")\n",
    "    def land_action(self, player):\n",
    "        player.balance += 400\n",
    "        self.visits += 1\n",
    "\n",
    "class Jail(Square):\n",
    "    def __init__(self):\n",
    "        super().__init__(10, \"Jail\")\n",
    "        \n",
    "class FreeParking(Square):\n",
    "    def __init__(self):\n",
    "        super().__init__(20, \"Free Parking\")\n",
    "        \n",
    "class GoToJail(Square):\n",
    "    def __init__(self):\n",
    "        super().__init__(30, \"Go To Jail\")"
   ]
  },
  {
   "cell_type": "code",
   "execution_count": 10,
   "id": "4ab58aca",
   "metadata": {},
   "outputs": [],
   "source": [
    "class Chance(Square):\n",
    "    def __init__(self, position, name):\n",
    "        super().__init__(position, name)\n",
    "    def chairman(player, others):\n",
    "        for other in others:\n",
    "            other.balance += 50\n",
    "            player.balance -= 50\n",
    "    def advance_to_go(player):\n",
    "        player.position = 0\n",
    "        board[0].land_action(player)\n",
    "    def opera_opening(player, others):\n",
    "        for other in others:\n",
    "            other.balance -= 50\n",
    "            player.balance += 50\n",
    "    def go_to_jail(player):\n",
    "        player.position = 10\n",
    "        board[10].land_action(player)\n",
    "    \n",
    "class CommunityChest(Square):\n",
    "    cards = []\n",
    "    def __init__(self, position, name):\n",
    "        super().__init__(position, name)"
   ]
  },
  {
   "cell_type": "code",
   "execution_count": 15,
   "id": "2b39139d",
   "metadata": {},
   "outputs": [],
   "source": [
    "board = [\n",
    "    Go(),\n",
    "    Building(1, \"Mediterranean Avenue\", 60, (2, 10, 30, 90, 160, 250), \"Purple\"),\n",
    "    CommunityChest(2, \"Community Chest 1\"),\n",
    "    Building(3, \"Baltic Avenue\", 60, (4, 20, 60, 180, 320, 450), \"Purple\"),\n",
    "    Tax(4, \"Income Tax\", 200),\n",
    "    Railroad(5, \"Reading Railroad\"),\n",
    "    Building(6, \"Oriental Avenue\", 100, (6, 30, 90, 270, 400, 550), \"Light Blue\"),\n",
    "    Chance(7, \"Chance 1\"),\n",
    "    Building(8, \"Vermont Avenue\", 100, (6, 30, 90, 270, 400, 550), \"Light Blue\"),\n",
    "    Building(9, \"Connecticut Avenue\", 120, (8, 40, 100, 300, 450, 600), \"Light Blue\"),\n",
    "    Jail(),\n",
    "    Building(11, \"St. Charles Place\", 140, (10, 50, 150, 450, 625, 750), \"Pink\"),\n",
    "    Utility(12, \"Electric Company\"),\n",
    "    Building(13, \"States Avenue\", 140, (10, 50, 150, 450, 625, 750), \"Pink\"),\n",
    "    Building(14, \"Virginia Avenue\", 160, (12, 60, 180, 500, 700, 900), \"Pink\"),\n",
    "    Railroad(15, \"Pennsylvania Railroad\"),\n",
    "    Building(16, \"St. James Place\", 180, (14, 70, 200, 550, 750, 950), \"Orange\"),\n",
    "    CommunityChest(17, \"Community Chest 2\"),\n",
    "    Building(18, \"Tennessee Avenue\", 180, (14, 70, 200, 550, 750, 950), \"Orange\"),\n",
    "    Building(19, \"New York Avenue\", 200, (16, 80, 220, 600, 800, 1000), \"Orange\"),\n",
    "    FreeParking(),\n",
    "    Building(21, \"Kentucky Avenue\", 220, (18, 90, 250, 700, 875, 1050), \"Red\"),\n",
    "    Chance(22, \"Chance 2\"),\n",
    "    Building(23, \"Indiana Avenue\", 220, (18, 90, 250, 700, 875, 1050), \"Red\"),\n",
    "    Building(24, \"Illinois Avenue\", 240, (20, 100, 300, 750, 925, 1100), \"Red\"),\n",
    "    Railroad(25, \"B&O Railroad\"),\n",
    "    Building(26, \"Atlantic Avenue\", 260, (22, 110, 330, 800, 975, 1150), \"Yellow\"),\n",
    "    Building(27, \"Ventnor Avenue\", 260, (22, 110, 330, 800, 975, 1150), \"Yellow\"),\n",
    "    Utility(28, \"Water Works\"),\n",
    "    Building(29, \"Marvin Gardens\", 280, (24, 120, 360, 850, 1025, 1200), \"Yellow\"),\n",
    "    GoToJail(),\n",
    "    Building(31, \"Pacific Avenue\", 300, (26, 130, 390, 900, 1100, 1275), \"Green\"),\n",
    "    Building(32, \"North Carolina Avenue\", 300, (26, 130, 390, 900, 1100, 1275), \"Green\"),\n",
    "    CommunityChest(33, \"Community Chest 3\"),\n",
    "    Building(34, \"Pennsylvania Avenue\", 320, (28, 150, 450, 1000, 1200, 1400), \"Green\"),\n",
    "    Railroad(35, \"Short Line Railroad\"),\n",
    "    Chance(36, \"Chance 3\"),\n",
    "    Building(37, \"Park Place\", 350, (35, 175, 500, 1100, 1300, 1500), \"Dark Blue\"),\n",
    "    Tax(38, \"Luxury Tax\", 75),\n",
    "    Building(39, \"Boardwalk\", 400, (50, 200, 600, 1400, 1500, 2000), \"Dark Blue\")\n",
    "]"
   ]
  },
  {
   "cell_type": "code",
   "execution_count": null,
   "id": "b4b7f677",
   "metadata": {},
   "outputs": [],
   "source": [
    "def roll():\n",
    "    die_1 = np.random.choice([1, 2, 3, 4, 5, 6])\n",
    "    die_2 = np.random.choice([1, 2, 3, 4, 5, 6])\n",
    "    return (die_1, die_2)"
   ]
  },
  {
   "cell_type": "code",
   "execution_count": null,
   "id": "26848fe9",
   "metadata": {},
   "outputs": [],
   "source": []
  }
 ],
 "metadata": {
  "kernelspec": {
   "display_name": "Python 3 (ipykernel)",
   "language": "python",
   "name": "python3"
  },
  "language_info": {
   "codemirror_mode": {
    "name": "ipython",
    "version": 3
   },
   "file_extension": ".py",
   "mimetype": "text/x-python",
   "name": "python",
   "nbconvert_exporter": "python",
   "pygments_lexer": "ipython3",
   "version": "3.9.16"
  }
 },
 "nbformat": 4,
 "nbformat_minor": 5
}
